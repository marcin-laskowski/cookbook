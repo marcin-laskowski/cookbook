{
 "cells": [
  {
   "cell_type": "markdown",
   "metadata": {},
   "source": [
    "# **cookbook** | webscraping\n",
    "\n",
    "Data extraction from webpage: https://uwielbiam.pl"
   ]
  },
  {
   "cell_type": "code",
   "execution_count": 1,
   "metadata": {},
   "outputs": [],
   "source": [
    "import re\n",
    "import numpy as np\n",
    "import pandas as pd\n",
    "import httplib2\n",
    "import requests\n",
    "from bs4 import BeautifulSoup, SoupStrainer\n",
    "from collections import Counter\n",
    "from tqdm import tqdm\n",
    "\n",
    "import warnings\n",
    "warnings.filterwarnings(\"ignore\")"
   ]
  },
  {
   "cell_type": "markdown",
   "metadata": {},
   "source": [
    "### MAIN DISHES"
   ]
  },
  {
   "cell_type": "code",
   "execution_count": 2,
   "metadata": {},
   "outputs": [],
   "source": [
    "class Webpage(object):\n",
    "    \n",
    "    def __init__(self, link):\n",
    "        self.link = link\n",
    "        self.link_przepisy = link + '/przepisy?pg='\n",
    "        self.link_przepis = link + '/przepis/'\n",
    "        \n",
    "    def one_page_meals(self, number):\n",
    "        \"\"\"Return list with all dishes from a particular page\"\"\"\n",
    "        if number > 0:\n",
    "            all_links = []\n",
    "            http = httplib2.Http()\n",
    "            status, response = http.request(self.link_przepisy + str(number))\n",
    "            for link in BeautifulSoup(response, 'html.parser', parseOnlyThese=SoupStrainer('a')):\n",
    "                if link.has_attr('href') and link['href'].startswith('/przepis/'):\n",
    "                    all_links.append(((link['href'])[len('/przepis/'):]).replace('-', ' '))\n",
    "            return all_links\n",
    "        else:\n",
    "            print(\"number variable needs to be greater than zero.\")\n",
    "\n",
    "    def one_page_links(self, number):\n",
    "        \"\"\"Return list with all dishes links from a particular page\"\"\"\n",
    "        if number > 0:\n",
    "            all_links = []\n",
    "            http = httplib2.Http()\n",
    "            status, response = http.request(self.link_przepisy + str(number))\n",
    "            for link in BeautifulSoup(response, 'html.parser', parseOnlyThese=SoupStrainer('a')):\n",
    "                if link.has_attr('href') and link['href'].startswith('/przepis/'):\n",
    "                    all_links.append(self.link_przepis + (link['href'])[len('/przepis/'):])\n",
    "            return all_links\n",
    "        else:\n",
    "            print(\"number variable needs to be greater than zero.\")\n",
    "            \n",
    "    @property\n",
    "    def all_links(self):\n",
    "        \"\"\"Return list with all dishes names from the webpage\"\"\"\n",
    "        all_pages = 458\n",
    "        if number > 0:\n",
    "            all_links = []\n",
    "            for i in range(1, all_pages):\n",
    "                if i%10 == 0:\n",
    "                    print(f'{i}/{all_pages}', end='\\r')\n",
    "                http = httplib2.Http()\n",
    "                status, response = http.request(self.link_przepisy + str(i))\n",
    "                for link in BeautifulSoup(response, 'html.parser', parseOnlyThese=SoupStrainer('a')):\n",
    "                    if link.has_attr('href') and link['href'].startswith('/przepis/'):\n",
    "                        all_links.append(self.link_przepis + (link['href'])[len('/przepis/'):])\n",
    "            return all_links\n",
    "        else:\n",
    "            print(\"number variable needs to be greater than zero.\")"
   ]
  },
  {
   "cell_type": "code",
   "execution_count": 3,
   "metadata": {},
   "outputs": [
    {
     "data": {
      "text/plain": "'http://uwielbiam.pl/'"
     },
     "execution_count": 3,
     "metadata": {},
     "output_type": "execute_result"
    }
   ],
   "source": [
    "uwielbiam = Webpage('http://uwielbiam.pl/')\n",
    "uwielbiam.link"
   ]
  },
  {
   "cell_type": "code",
   "execution_count": 4,
   "metadata": {},
   "outputs": [
    {
     "data": {
      "text/plain": "['salatka z brukselka i ogorkami kiszonymi krakus',\n 'salatka z gruszka i serem plesniowym',\n 'salatka z winogronem i serem plesniowym',\n 'salatka z figami i szynka parmenska',\n 'salatka z winogronem i kurczakiem',\n 'salatka ziemniaczana z bobem boczkiem i korniszonami z chili i francuskim ',\n 'salatka z pieczonych burakow i mozzarelli z dressingiem z syropu malinowego 2',\n 'mini makaron czekoladowy z truskawkami arbuzem i sosem czekoladowym',\n 'salatka z makaronem czekoladowym feta arbuzem zielonymi oliwkami i cebula',\n 'wiosenna salatka z kalarepy z ogorkami konserwowymi krakus',\n 'salatka ziemniaczana z ogorkami kiszonymi krakus',\n 'salatka gyros ale grecka z ogorkami korniszony z chili',\n 'salatka makaronowa z pieczonym miesem',\n 'makaron ryzowy z awokado jajkiem mozzarella i sosem bazyliowym',\n 'salatka jajeczna z paluszkami krabowymi',\n 'salatka z jarmuzu i awokado',\n 'kasza peczak ze szpinakiem',\n 'salatka z awokado i lososiem',\n 'salatka z granatem i kurczakiem',\n 'salatka jarzynowa z chlebem pelnoziarnistym']"
     },
     "execution_count": 4,
     "metadata": {},
     "output_type": "execute_result"
    }
   ],
   "source": [
    "uwielbiam.one_page_meals(1)"
   ]
  },
  {
   "cell_type": "code",
   "execution_count": 5,
   "metadata": {},
   "outputs": [
    {
     "data": {
      "text/plain": "['http://uwielbiam.pl//przepis/salatka-z-brukselka-i-ogorkami-kiszonymi-krakus',\n 'http://uwielbiam.pl//przepis/salatka-z-gruszka-i-serem-plesniowym',\n 'http://uwielbiam.pl//przepis/salatka-z-winogronem-i-serem-plesniowym',\n 'http://uwielbiam.pl//przepis/salatka-z-figami-i-szynka-parmenska',\n 'http://uwielbiam.pl//przepis/salatka-z-winogronem-i-kurczakiem',\n 'http://uwielbiam.pl//przepis/salatka-ziemniaczana-z-bobem-boczkiem-i-korniszonami-z-chili-i-francuskim-',\n 'http://uwielbiam.pl//przepis/salatka-z-pieczonych-burakow-i-mozzarelli-z-dressingiem-z-syropu-malinowego-2',\n 'http://uwielbiam.pl//przepis/mini-makaron-czekoladowy-z-truskawkami-arbuzem-i-sosem-czekoladowym',\n 'http://uwielbiam.pl//przepis/salatka-z-makaronem-czekoladowym-feta-arbuzem-zielonymi-oliwkami-i-cebula',\n 'http://uwielbiam.pl//przepis/wiosenna-salatka-z-kalarepy-z-ogorkami-konserwowymi-krakus',\n 'http://uwielbiam.pl//przepis/salatka-ziemniaczana-z-ogorkami-kiszonymi-krakus',\n 'http://uwielbiam.pl//przepis/salatka-gyros-ale-grecka-z-ogorkami-korniszony-z-chili',\n 'http://uwielbiam.pl//przepis/salatka-makaronowa-z-pieczonym-miesem',\n 'http://uwielbiam.pl//przepis/makaron-ryzowy-z-awokado-jajkiem-mozzarella-i-sosem-bazyliowym',\n 'http://uwielbiam.pl//przepis/salatka-jajeczna-z-paluszkami-krabowymi',\n 'http://uwielbiam.pl//przepis/salatka-z-jarmuzu-i-awokado',\n 'http://uwielbiam.pl//przepis/kasza-peczak-ze-szpinakiem',\n 'http://uwielbiam.pl//przepis/salatka-z-awokado-i-lososiem',\n 'http://uwielbiam.pl//przepis/salatka-z-granatem-i-kurczakiem',\n 'http://uwielbiam.pl//przepis/salatka-jarzynowa-z-chlebem-pelnoziarnistym']"
     },
     "execution_count": 5,
     "metadata": {},
     "output_type": "execute_result"
    }
   ],
   "source": [
    "uwielbiam.one_page_links(1)"
   ]
  },
  {
   "cell_type": "markdown",
   "metadata": {},
   "source": [
    "### DISH PROPERTIES"
   ]
  },
  {
   "cell_type": "code",
   "execution_count": 6,
   "metadata": {},
   "outputs": [],
   "source": [
    "class Uwielbiam_dish_page(object):\n",
    "    \n",
    "    def __init__(self, link):\n",
    "        self.link = link\n",
    "        self.html_content = BeautifulSoup(requests.get(link).content)\n",
    "        \n",
    "    @property\n",
    "    def title(self):\n",
    "        title_content = self.html_content.find('h1', attrs = {'class': 'h-section'})\n",
    "        return title_content.text\n",
    "    \n",
    "    @property\n",
    "    def description(self):\n",
    "        description_content = self.html_content.find('p', attrs = {'class': 'p--description'})\n",
    "        try:\n",
    "            description_content = description_content.text.replace('\\u2028\\r', ' ').replace('  \\n', ' ').replace('\\r\\n', '')\n",
    "        except:\n",
    "            description_content = 'None'\n",
    "        return description_content\n",
    "    \n",
    "    @property\n",
    "    def ingredients(self):\n",
    "        ingr = self.html_content.find_all('tr', attrs = {'class': 'ingredients_row'})\n",
    "        x_list = []\n",
    "        for x in ingr:\n",
    "            x_list.append(x.text.split())\n",
    "        ingredients = []\n",
    "        for x in x_list[:-2]:\n",
    "            try: \n",
    "                x1 = int(x[0])\n",
    "                x2 = x[1]\n",
    "                x3 = ' '.join(x[2:])\n",
    "                ingredients.append([x1, x2, x3])\n",
    "            except:\n",
    "                ingredients.append([' '.join(x)])\n",
    "            pass\n",
    "        return ingredients\n",
    "    \n",
    "    @property\n",
    "    def preparation(self):\n",
    "        preparation_content = self.html_content.find_all('li', attrs = {'class': 'recipe-list--row'})\n",
    "        prep_content = []\n",
    "        for i in range(len(preparation_content)):\n",
    "            prep_content.append(preparation_content[i].text.strip().replace('\\r\\n', ''))\n",
    "        return prep_content\n",
    "    \n",
    "    @property\n",
    "    def tags(self):\n",
    "        tags = self.html_content.find_all('a', attrs = {'class': 'tag f-element'})\n",
    "        tag_content = []\n",
    "        for n in range(len(tags)):\n",
    "            tag_content.append(tags[n].text.lower())\n",
    "        return tag_content\n",
    "    \n",
    "    @property\n",
    "    def allergens(self):\n",
    "        ingr = self.html_content.find_all('tr', attrs = {'class': 'ingredients_row'})\n",
    "        x_list = []\n",
    "        for x in ingr:\n",
    "            x_list.append(x.text.split())\n",
    "        save = 0\n",
    "        allergens = []\n",
    "        for counter, item in enumerate(x_list[-2]):\n",
    "            if item == \"Alergeny\":\n",
    "                save = 1\n",
    "            else:\n",
    "                if save == 1:\n",
    "                    allergens.append(item)\n",
    "                else:\n",
    "                    pass\n",
    "        if allergens == []:\n",
    "            return 'None'\n",
    "        return allergens\n",
    "    \n",
    "    @property\n",
    "    def skill(self):\n",
    "        return self.html_content.find_all('span', attrs = {'class': 'ico-info_content'})[0].text\n",
    "        \n",
    "    @property\n",
    "    def time(self):\n",
    "        return self.html_content.find_all('span', attrs = {'class': 'ico-info_content'})[1].text\n",
    "    \n",
    "    @property\n",
    "    def author(self):\n",
    "        return self.html_content.find_all('p', attrs = {'class': 'user_name'})[1].text"
   ]
  },
  {
   "cell_type": "code",
   "execution_count": 7,
   "metadata": {},
   "outputs": [
    {
     "data": {
      "text/plain": "'https://uwielbiam.pl/przepis/ciasteczka-thumbprint-z-nadzieniem-krowkowym-i-orzechami'"
     },
     "execution_count": 7,
     "metadata": {},
     "output_type": "execute_result"
    }
   ],
   "source": [
    "meal = Uwielbiam_dish_page('https://uwielbiam.pl/przepis/ciasteczka-thumbprint-z-nadzieniem-krowkowym-i-orzechami')\n",
    "meal.link"
   ]
  },
  {
   "cell_type": "code",
   "execution_count": 8,
   "metadata": {},
   "outputs": [
    {
     "data": {
      "text/plain": "'Ciasteczka thumbprint z nadzieniem krówkowym i orzechami'"
     },
     "execution_count": 8,
     "metadata": {},
     "output_type": "execute_result"
    }
   ],
   "source": [
    "meal.title"
   ]
  },
  {
   "cell_type": "code",
   "execution_count": 9,
   "metadata": {},
   "outputs": [
    {
     "data": {
      "text/plain": "'Przedstawiamy naszą krówkowo-orzechową ciasteczkową wariację. Są to pyszne, chrupiące i bardzo efektowne ciasteczka z wyraźną nutą kakaową. Idealnie sprawdzą się jako dodatek do kawy lub kubka herbaty podczas długich jesienno-zimowych wieczorów.'"
     },
     "execution_count": 9,
     "metadata": {},
     "output_type": "execute_result"
    }
   ],
   "source": [
    "meal.description"
   ]
  },
  {
   "cell_type": "code",
   "execution_count": 10,
   "metadata": {},
   "outputs": [
    {
     "data": {
      "text/plain": "[['SKŁADNIKI NA CIASTO'],\n [130, 'Gramów', 'mąka pszenna tortowa Lubella'],\n [30, 'Gramów', 'Kakao DecoMorreno'],\n [110, 'Gramów', 'masło'],\n [150, 'Gramów', 'cukier'],\n [1, 'Szczypta', 'sól'],\n [2, 'Sztuki', 'jajko'],\n [1, 'Szklanka', 'Orzechy laskowe mielone'],\n ['SKŁADNIKI NA NADZIENIE'],\n [150, 'Gramów', 'Cukierki krówki'],\n [3, 'Łyżki', 'śmietanka kremowa 30%'],\n [50, 'Gramów', 'Mleczna czekolada']]"
     },
     "execution_count": 10,
     "metadata": {},
     "output_type": "execute_result"
    }
   ],
   "source": [
    "meal.ingredients"
   ]
  },
  {
   "cell_type": "code",
   "execution_count": 11,
   "metadata": {},
   "outputs": [
    {
     "data": {
      "text/plain": "['Wymieszaj w misce mąkę i kakao. W drugiej misce zmiksuj masło z cukrem i solą na puszystą masę. Dodaj żółtka z jajek. W następnej kolejności dodaj suche składniki i miksuj całość aż do połączenia.',\n 'Przykryj ciasto folią i wstaw do lodówki na godzinę. Następnie roztrzep białko widelcem. Formuj małe kulki z ciasta, mocz je w białku i obtaczaj w orzechach.',\n 'Przygotowane w ten sposób ciastka układaj na blasze w odstępach. Na środku każdego ciasteczka zrób wgłębienie. Piecz je w  nagrzanym do 180°C piekarniku przez około 10-12 minut.',\n 'Upieczone ciastka ostudź, po czym ponownie zrób w nich wgłębienia. W małym rondlu rozpuść krówki ze śmietanką. Tak przygotowaną masą wypełnij wgłębienia w ciastkach.',\n 'Gdy masa krówkowa zastygnie, rozpuść w kąpieli wodnej czekoladę i polej nią ciastka.']"
     },
     "execution_count": 11,
     "metadata": {},
     "output_type": "execute_result"
    }
   ],
   "source": [
    "meal.preparation"
   ]
  },
  {
   "cell_type": "code",
   "execution_count": 12,
   "metadata": {},
   "outputs": [
    {
     "data": {
      "text/plain": "['sól',\n 'na słodko',\n 'cukier',\n 'masło',\n 'wypieki',\n 'impreza',\n 'deser',\n 'kakao decomorreno',\n 'jajko',\n 'podwieczorek',\n 'kakao',\n 'przystawki i przekąski',\n 'mąka pszenna tortowa lubella',\n 'bezmięsna',\n 'śmietanka kremowa 30%',\n 'urodziny imieniny',\n 'grill i piknik',\n 'mleczna czekolada',\n 'orzechy laskowe mielone',\n 'cukierki krówki']"
     },
     "execution_count": 12,
     "metadata": {},
     "output_type": "execute_result"
    }
   ],
   "source": [
    "meal.tags"
   ]
  },
  {
   "cell_type": "code",
   "execution_count": 13,
   "metadata": {},
   "outputs": [
    {
     "data": {
      "text/plain": "['Gluten', 'Laktoza', 'Mleko', 'Jajka']"
     },
     "execution_count": 13,
     "metadata": {},
     "output_type": "execute_result"
    }
   ],
   "source": [
    "meal.allergens"
   ]
  },
  {
   "cell_type": "code",
   "execution_count": 14,
   "metadata": {},
   "outputs": [
    {
     "data": {
      "text/plain": "'Średni'"
     },
     "execution_count": 14,
     "metadata": {},
     "output_type": "execute_result"
    }
   ],
   "source": [
    "meal.skill"
   ]
  },
  {
   "cell_type": "code",
   "execution_count": 15,
   "metadata": {},
   "outputs": [
    {
     "data": {
      "text/plain": "'Do 1,5 godz'"
     },
     "execution_count": 15,
     "metadata": {},
     "output_type": "execute_result"
    }
   ],
   "source": [
    "meal.time"
   ]
  },
  {
   "cell_type": "code",
   "execution_count": 16,
   "metadata": {},
   "outputs": [
    {
     "data": {
      "text/plain": "'decomorreno'"
     },
     "execution_count": 16,
     "metadata": {},
     "output_type": "execute_result"
    }
   ],
   "source": [
    "meal.author"
   ]
  },
  {
   "cell_type": "markdown",
   "metadata": {},
   "source": [
    "### DATA EXTRACTION"
   ]
  },
  {
   "cell_type": "code",
   "execution_count": 17,
   "metadata": {},
   "outputs": [],
   "source": [
    "def dish_information(link):\n",
    "    \"\"\"Return list with information about the meal.\"\"\"\n",
    "    meal = Uwielbiam_dish_page(link)\n",
    "    return [meal.title, meal.description, meal.ingredients, meal.preparation, meal.tags,\n",
    "           meal.allergens, meal.skill, meal.time, meal.author, meal.link]"
   ]
  },
  {
   "cell_type": "code",
   "execution_count": 18,
   "metadata": {},
   "outputs": [],
   "source": [
    "def extract_data(main_link, save_sample_data=False):\n",
    "    \"\"\"\n",
    "    Function which takes as a input list with dishes links and return\n",
    "    a DataFrame with dish: title, description, ingredients, preparation procedure, \n",
    "    tags and allergens.\n",
    "    \"\"\"\n",
    "    \n",
    "    # build object of the webpage\n",
    "    uwielbiam = Webpage(main_link)\n",
    "    \n",
    "    # get list with meal links from page: 5\n",
    "    # (change to: uwielbiam.all_links if you want to get all data)  \n",
    "    links = uwielbiam.one_page_links(5)  \n",
    "    \n",
    "    # extract meal information from each page\n",
    "    cookbook_dict = {}\n",
    "    for counter in tqdm(range(len(links))):\n",
    "        cookbook_dict[counter] = dish_information(links[counter])\n",
    "\n",
    "    column_names = [\"title\", \"description\", \"ingredients\", \"preparation\", \"tags\", \"allergens\", \"skill\", \"time\", \"author\", \"link\"]\n",
    "    cookbook = pd.DataFrame.from_dict(cookbook_dict, orient='index', columns=column_names)\n",
    "\n",
    "    # save data to .csv file\n",
    "    if save_sample_data == True: cookbook.to_csv('cookbook_sample.csv')\n",
    "\n",
    "    return cookbook"
   ]
  },
  {
   "cell_type": "code",
   "execution_count": 19,
   "metadata": {},
   "outputs": [
    {
     "name": "stderr",
     "output_type": "stream",
     "text": "100%|██████████| 20/20 [00:37<00:00,  1.89s/it]\n"
    },
    {
     "data": {
      "text/html": "<div>\n<style scoped>\n    .dataframe tbody tr th:only-of-type {\n        vertical-align: middle;\n    }\n\n    .dataframe tbody tr th {\n        vertical-align: top;\n    }\n\n    .dataframe thead th {\n        text-align: right;\n    }\n</style>\n<table border=\"1\" class=\"dataframe\">\n  <thead>\n    <tr style=\"text-align: right;\">\n      <th></th>\n      <th>title</th>\n      <th>description</th>\n      <th>ingredients</th>\n      <th>preparation</th>\n      <th>tags</th>\n      <th>allergens</th>\n      <th>skill</th>\n      <th>time</th>\n      <th>author</th>\n      <th>link</th>\n    </tr>\n  </thead>\n  <tbody>\n    <tr>\n      <th>0</th>\n      <td>Krem czekoladowy z nutą korzenną</td>\n      <td>Oto ekspresowy pomysł na idealny, bardzo odżyw...</td>\n      <td>[[3, Łyżki, Kakao DecoMorreno], [500, Gramów, ...</td>\n      <td>[Na suchej patelni podpraż łuskane pestki słon...</td>\n      <td>[dla rodziny, sól, na słodko, kakao decomorren...</td>\n      <td>None</td>\n      <td>Łatwy</td>\n      <td>Do 15 min</td>\n      <td>decomorreno</td>\n      <td>http://uwielbiam.pl//przepis/krem-czekoladowy-...</td>\n    </tr>\n    <tr>\n      <th>1</th>\n      <td>Ciasteczkowe choinki</td>\n      <td>Bajkowo prezentujące się kremowe choinki to ni...</td>\n      <td>[[SKŁADNIKI NA CIASTO], [25, Gramów, Kakao Dec...</td>\n      <td>[Wszystkie składniki na ciasto zagnieć szybko....</td>\n      <td>[na słodko, masło, dla dzieci, deser, kakao de...</td>\n      <td>[Gluten, Laktoza, Mleko, Jajka]</td>\n      <td>Łatwy</td>\n      <td>Do 1 godz</td>\n      <td>decomorreno</td>\n      <td>http://uwielbiam.pl//przepis/ciasteczkowe-choinki</td>\n    </tr>\n    <tr>\n      <th>2</th>\n      <td>Tort czekoladowy z kremem cynamonowym</td>\n      <td>Poznaj naszą tortową propozycję super food, kt...</td>\n      <td>[[SKŁADNIKI SUCHE], [120, Gramów, Kakao DecoMo...</td>\n      <td>[W misce wymieszaj wszystkie suche składniki. ...</td>\n      <td>[sól, na słodko, wypieki, woda, deser, kakao d...</td>\n      <td>[Jajka]</td>\n      <td>Średni</td>\n      <td>Do 1 godz</td>\n      <td>decomorreno</td>\n      <td>http://uwielbiam.pl//przepis/tort-czekoladowy-...</td>\n    </tr>\n    <tr>\n      <th>3</th>\n      <td>Ciasto barbórkowe z galaretką</td>\n      <td>Zainspiruj się naszym przepisem na bardzo lekk...</td>\n      <td>[[130, Gramów, mąka pszenna tortowa Lubella], ...</td>\n      <td>[Białka oddziel od żółtek i ubij na sztywną pi...</td>\n      <td>[na słodko, cukier, wypieki, impreza, deser, k...</td>\n      <td>[Gluten, Jajka]</td>\n      <td>Średni</td>\n      <td>Do 1 godz</td>\n      <td>decomorreno</td>\n      <td>http://uwielbiam.pl//przepis/ciasto-barborkowe...</td>\n    </tr>\n    <tr>\n      <th>4</th>\n      <td>Paszteciki z grzybami i kapustą</td>\n      <td>None</td>\n      <td>[[CIASTO], [350, Gramów, mąka Lubella Puszysta...</td>\n      <td>[Najpierw przygotować farsz. Grzyby zalać wrzą...</td>\n      <td>[polska, obiad, dania główne, sól, cukier, ceb...</td>\n      <td>None</td>\n      <td>Łatwy</td>\n      <td>Ponad 3 godz</td>\n      <td>lubella</td>\n      <td>http://uwielbiam.pl//przepis/paszteciki-z-grzy...</td>\n    </tr>\n    <tr>\n      <th>5</th>\n      <td>Sernik królewski</td>\n      <td>None</td>\n      <td>[[KRUCHE CIASTO], [300, Gramów, Lubella Mąka u...</td>\n      <td>[Mąkę, kakao, proszek i cukier wymieszać, zrob...</td>\n      <td>[polska, sól, na słodko, cukier, jaja kurze ca...</td>\n      <td>None</td>\n      <td>Łatwy</td>\n      <td>Do 2 godz</td>\n      <td>lubella</td>\n      <td>http://uwielbiam.pl//przepis/sernik-krolewski-3</td>\n    </tr>\n    <tr>\n      <th>6</th>\n      <td>Pierniczki świąteczne z lukrem królewskim</td>\n      <td>None</td>\n      <td>[[CIASTO], [500, Gramów, mąka Lubella Puszysta...</td>\n      <td>[Miód oraz masło przełożyć do rondelka i rozpu...</td>\n      <td>[polska, na słodko, jaja kurze całe, wypieki, ...</td>\n      <td>None</td>\n      <td>Średni</td>\n      <td>Do 3 godz</td>\n      <td>lubella</td>\n      <td>http://uwielbiam.pl//przepis/pierniczki-swiate...</td>\n    </tr>\n    <tr>\n      <th>7</th>\n      <td>Uszka z grzybami</td>\n      <td>None</td>\n      <td>[[CIASTO], [300, Gramów, mąka Lubella Puszysta...</td>\n      <td>[Mąkę przesiać do miski, połączyć z solą, wodą...</td>\n      <td>[polska, obiad, dla rodziny, dania główne, sól...</td>\n      <td>None</td>\n      <td>Łatwy</td>\n      <td>Do 3 godz</td>\n      <td>lubella</td>\n      <td>http://uwielbiam.pl//przepis/uszka-z-grzybami</td>\n    </tr>\n    <tr>\n      <th>8</th>\n      <td>Tradycyjne pierogi z kapusta i grzybami</td>\n      <td>None</td>\n      <td>[[CIASTO:], [350, Gramów, mąka Lubella Puszyst...</td>\n      <td>[Mąkę przesiać do miski, połączyć z solą, wodą...</td>\n      <td>[polska, obiad, dla rodziny, dania główne, sól...</td>\n      <td>None</td>\n      <td>Łatwy</td>\n      <td>Do 3 godz</td>\n      <td>lubella</td>\n      <td>http://uwielbiam.pl//przepis/tradycyjne-pierog...</td>\n    </tr>\n    <tr>\n      <th>9</th>\n      <td>Czekoladowo - miętowa mokka</td>\n      <td>Czekolada i mięta to dwa niezwykle wyraziste s...</td>\n      <td>[[1, Łyżka, Kakao DecoMorreno], [60, Mililitró...</td>\n      <td>[W rondelku podgrzej mleko wraz z kakao oraz k...</td>\n      <td>[na słodko, deser, kakao decomorreno, śniadani...</td>\n      <td>None</td>\n      <td>Łatwy</td>\n      <td>Do 15 min</td>\n      <td>decomorreno</td>\n      <td>http://uwielbiam.pl//przepis/czekoladowo-mieto...</td>\n    </tr>\n    <tr>\n      <th>10</th>\n      <td>Włoskie czekoladowe ciasteczka Biscotti</td>\n      <td>Biscotti to włoskie ciasteczka poddane dwukrot...</td>\n      <td>[[35, Gramów, Kakao DecoMorreno], [225, Gramów...</td>\n      <td>[Rozgrzej piekarnik do 180°C. Na blachę wysyp ...</td>\n      <td>[sól, na słodko, cukier, masło, wypieki, prosz...</td>\n      <td>[Gluten, Laktoza, Jajka]</td>\n      <td>Średni</td>\n      <td>Do 1 godz</td>\n      <td>decomorreno</td>\n      <td>http://uwielbiam.pl//przepis/wloskie-czekolado...</td>\n    </tr>\n    <tr>\n      <th>11</th>\n      <td>Rogale dyniowo-czekoladowe</td>\n      <td>Nasza propozycja rogali w kombinacji dyniowo- ...</td>\n      <td>[[500, Gramów, mąka pszenna tortowa Lubella], ...</td>\n      <td>[W misce przygotuj zaczyn – wymieszaj drożdże ...</td>\n      <td>[dla rodziny, sól, na słodko, cukier, masło, i...</td>\n      <td>[Gluten, Laktoza, Mleko, Jajka]</td>\n      <td>Średni</td>\n      <td>Do 1,5 godz</td>\n      <td>decomorreno</td>\n      <td>http://uwielbiam.pl//przepis/rogale-dyniowo-cz...</td>\n    </tr>\n    <tr>\n      <th>12</th>\n      <td>Ciasto czekoladowe z dynią</td>\n      <td>Jesień to sezon na dyniowe szaleństwo także w ...</td>\n      <td>[[SKŁADNIKI NA CIASTO], [210, Gramów, mąka psz...</td>\n      <td>[Formę keksową wyłóż papierem do pieczenia., W...</td>\n      <td>[sól, na słodko, warzywa, cukier, masło, impre...</td>\n      <td>[Gluten, Laktoza, Jajka]</td>\n      <td>Łatwy</td>\n      <td>Do 40 min</td>\n      <td>decomorreno</td>\n      <td>http://uwielbiam.pl//przepis/ciasto-czekoladow...</td>\n    </tr>\n    <tr>\n      <th>13</th>\n      <td>Drożdżowe rogaliki dyniowe z kremem kakaowym</td>\n      <td>Wyjątkowa wariacja na temat drożdżowych rogali...</td>\n      <td>[[SKŁADNIKI NA CIASTO], [450, Gramów, mąka psz...</td>\n      <td>[W rondelku podgrzej mleko wraz masłem. W misc...</td>\n      <td>[sól, na słodko, cukier, masło, wypieki, impre...</td>\n      <td>None</td>\n      <td>Średni</td>\n      <td>Do 1,5 godz</td>\n      <td>decomorreno</td>\n      <td>http://uwielbiam.pl//przepis/drozdzowe-rogalik...</td>\n    </tr>\n    <tr>\n      <th>14</th>\n      <td>Delikatne ciasto czekoladowo dyniowe</td>\n      <td>Prezentujemy przepis na ciasto bardzo dyniowe,...</td>\n      <td>[[SKŁADNIKI NA CIASTO], [2.5 Szklanki mąka psz...</td>\n      <td>[Rozgrzej piekarnik do 180°C. Przygotuj ciasto...</td>\n      <td>[sól, na słodko, warzywa, masło, wypieki, pros...</td>\n      <td>[Gluten, Laktoza, Jajka]</td>\n      <td>Średni</td>\n      <td>Do 1,5 godz</td>\n      <td>decomorreno</td>\n      <td>http://uwielbiam.pl//przepis/delikatne-ciasto-...</td>\n    </tr>\n    <tr>\n      <th>15</th>\n      <td>4 - składnikowe fit ciasteczka śniadaniowe - b...</td>\n      <td>Prezentujemy super- prosty, pożywny i szybki p...</td>\n      <td>[[50, Gramów, Kakao DecoMorreno], [320, Gramów...</td>\n      <td>[Zblenduj płatki owsiane (bezglutenowe) na mąk...</td>\n      <td>[na słodko, deser, kakao decomorreno, podwiecz...</td>\n      <td>None</td>\n      <td>Łatwy</td>\n      <td>Do 40 min</td>\n      <td>decomorreno</td>\n      <td>http://uwielbiam.pl//przepis/4-skladnikowe-fit...</td>\n    </tr>\n    <tr>\n      <th>16</th>\n      <td>Najprostszy omlet bananowo- owsiany w 5 minut!</td>\n      <td>Specjalnie dla miłośników fit- śniadań na słod...</td>\n      <td>[[15, Gramów, Kakao DecoMorreno], [24, Gramy, ...</td>\n      <td>[Wszystkie składniki zblenduj. Na patelni podg...</td>\n      <td>[na słodko, dla dzieci, deser, kakao decomorre...</td>\n      <td>[Gluten, Jajka]</td>\n      <td>Łatwy</td>\n      <td>Do 15 min</td>\n      <td>decomorreno</td>\n      <td>http://uwielbiam.pl//przepis/najprostszy-omlet...</td>\n    </tr>\n    <tr>\n      <th>17</th>\n      <td>Ciasteczka thumbprint z nadzieniem krówkowym i...</td>\n      <td>Przedstawiamy naszą krówkowo-orzechową ciastec...</td>\n      <td>[[SKŁADNIKI NA CIASTO], [130, Gramów, mąka psz...</td>\n      <td>[Wymieszaj w misce mąkę i kakao. W drugiej mis...</td>\n      <td>[sól, na słodko, cukier, masło, wypieki, impre...</td>\n      <td>[Gluten, Laktoza, Mleko, Jajka]</td>\n      <td>Średni</td>\n      <td>Do 1,5 godz</td>\n      <td>decomorreno</td>\n      <td>http://uwielbiam.pl//przepis/ciasteczka-thumbp...</td>\n    </tr>\n    <tr>\n      <th>18</th>\n      <td>Dyniowo-czekoladowa granola</td>\n      <td>Mamy przyjemność zaprezentować królową jesienn...</td>\n      <td>[[4, Łyżki, Kakao DecoMorreno], [4, Szklanki, ...</td>\n      <td>[Nastaw piekarnik na 200°C.  Wymieszaj suche s...</td>\n      <td>[sól, na słodko, impreza, deser, kakao decomor...</td>\n      <td>[Gluten, Orzechy, ziemne]</td>\n      <td>Łatwy</td>\n      <td>Do 1 godz</td>\n      <td>decomorreno</td>\n      <td>http://uwielbiam.pl//przepis/dyniowo-czekolado...</td>\n    </tr>\n    <tr>\n      <th>19</th>\n      <td>Grecka zapiekanka pastitsio</td>\n      <td>.</td>\n      <td>[[250, Gramów, Makaron Lubella Mini rurki z wa...</td>\n      <td>[Makaron ugotować według wskazówek na opakowan...</td>\n      <td>[dla rodziny, dania główne, sól, cebula, sól, ...</td>\n      <td>None</td>\n      <td>Łatwy</td>\n      <td>Do 1,5 godz</td>\n      <td>lubella</td>\n      <td>http://uwielbiam.pl//przepis/grecka-zapiekanka...</td>\n    </tr>\n  </tbody>\n</table>\n</div>",
      "text/plain": "                                                title  \\\n0                    Krem czekoladowy z nutą korzenną   \n1                                Ciasteczkowe choinki   \n2               Tort czekoladowy z kremem cynamonowym   \n3                      Ciasto barbórkowe z galaretką    \n4                     Paszteciki z grzybami i kapustą   \n5                                    Sernik królewski   \n6          Pierniczki świąteczne z lukrem królewskim    \n7                                    Uszka z grzybami   \n8            Tradycyjne pierogi z kapusta i grzybami    \n9                         Czekoladowo - miętowa mokka   \n10            Włoskie czekoladowe ciasteczka Biscotti   \n11                         Rogale dyniowo-czekoladowe   \n12                         Ciasto czekoladowe z dynią   \n13       Drożdżowe rogaliki dyniowe z kremem kakaowym   \n14               Delikatne ciasto czekoladowo dyniowe   \n15  4 - składnikowe fit ciasteczka śniadaniowe - b...   \n16    Najprostszy omlet bananowo- owsiany w 5 minut!    \n17  Ciasteczka thumbprint z nadzieniem krówkowym i...   \n18                        Dyniowo-czekoladowa granola   \n19                        Grecka zapiekanka pastitsio   \n\n                                          description  \\\n0   Oto ekspresowy pomysł na idealny, bardzo odżyw...   \n1   Bajkowo prezentujące się kremowe choinki to ni...   \n2   Poznaj naszą tortową propozycję super food, kt...   \n3   Zainspiruj się naszym przepisem na bardzo lekk...   \n4                                                None   \n5                                                None   \n6                                                None   \n7                                                None   \n8                                                None   \n9   Czekolada i mięta to dwa niezwykle wyraziste s...   \n10  Biscotti to włoskie ciasteczka poddane dwukrot...   \n11  Nasza propozycja rogali w kombinacji dyniowo- ...   \n12  Jesień to sezon na dyniowe szaleństwo także w ...   \n13  Wyjątkowa wariacja na temat drożdżowych rogali...   \n14  Prezentujemy przepis na ciasto bardzo dyniowe,...   \n15  Prezentujemy super- prosty, pożywny i szybki p...   \n16  Specjalnie dla miłośników fit- śniadań na słod...   \n17  Przedstawiamy naszą krówkowo-orzechową ciastec...   \n18  Mamy przyjemność zaprezentować królową jesienn...   \n19                                                  .   \n\n                                          ingredients  \\\n0   [[3, Łyżki, Kakao DecoMorreno], [500, Gramów, ...   \n1   [[SKŁADNIKI NA CIASTO], [25, Gramów, Kakao Dec...   \n2   [[SKŁADNIKI SUCHE], [120, Gramów, Kakao DecoMo...   \n3   [[130, Gramów, mąka pszenna tortowa Lubella], ...   \n4   [[CIASTO], [350, Gramów, mąka Lubella Puszysta...   \n5   [[KRUCHE CIASTO], [300, Gramów, Lubella Mąka u...   \n6   [[CIASTO], [500, Gramów, mąka Lubella Puszysta...   \n7   [[CIASTO], [300, Gramów, mąka Lubella Puszysta...   \n8   [[CIASTO:], [350, Gramów, mąka Lubella Puszyst...   \n9   [[1, Łyżka, Kakao DecoMorreno], [60, Mililitró...   \n10  [[35, Gramów, Kakao DecoMorreno], [225, Gramów...   \n11  [[500, Gramów, mąka pszenna tortowa Lubella], ...   \n12  [[SKŁADNIKI NA CIASTO], [210, Gramów, mąka psz...   \n13  [[SKŁADNIKI NA CIASTO], [450, Gramów, mąka psz...   \n14  [[SKŁADNIKI NA CIASTO], [2.5 Szklanki mąka psz...   \n15  [[50, Gramów, Kakao DecoMorreno], [320, Gramów...   \n16  [[15, Gramów, Kakao DecoMorreno], [24, Gramy, ...   \n17  [[SKŁADNIKI NA CIASTO], [130, Gramów, mąka psz...   \n18  [[4, Łyżki, Kakao DecoMorreno], [4, Szklanki, ...   \n19  [[250, Gramów, Makaron Lubella Mini rurki z wa...   \n\n                                          preparation  \\\n0   [Na suchej patelni podpraż łuskane pestki słon...   \n1   [Wszystkie składniki na ciasto zagnieć szybko....   \n2   [W misce wymieszaj wszystkie suche składniki. ...   \n3   [Białka oddziel od żółtek i ubij na sztywną pi...   \n4   [Najpierw przygotować farsz. Grzyby zalać wrzą...   \n5   [Mąkę, kakao, proszek i cukier wymieszać, zrob...   \n6   [Miód oraz masło przełożyć do rondelka i rozpu...   \n7   [Mąkę przesiać do miski, połączyć z solą, wodą...   \n8   [Mąkę przesiać do miski, połączyć z solą, wodą...   \n9   [W rondelku podgrzej mleko wraz z kakao oraz k...   \n10  [Rozgrzej piekarnik do 180°C. Na blachę wysyp ...   \n11  [W misce przygotuj zaczyn – wymieszaj drożdże ...   \n12  [Formę keksową wyłóż papierem do pieczenia., W...   \n13  [W rondelku podgrzej mleko wraz masłem. W misc...   \n14  [Rozgrzej piekarnik do 180°C. Przygotuj ciasto...   \n15  [Zblenduj płatki owsiane (bezglutenowe) na mąk...   \n16  [Wszystkie składniki zblenduj. Na patelni podg...   \n17  [Wymieszaj w misce mąkę i kakao. W drugiej mis...   \n18  [Nastaw piekarnik na 200°C.  Wymieszaj suche s...   \n19  [Makaron ugotować według wskazówek na opakowan...   \n\n                                                 tags  \\\n0   [dla rodziny, sól, na słodko, kakao decomorren...   \n1   [na słodko, masło, dla dzieci, deser, kakao de...   \n2   [sól, na słodko, wypieki, woda, deser, kakao d...   \n3   [na słodko, cukier, wypieki, impreza, deser, k...   \n4   [polska, obiad, dania główne, sól, cukier, ceb...   \n5   [polska, sól, na słodko, cukier, jaja kurze ca...   \n6   [polska, na słodko, jaja kurze całe, wypieki, ...   \n7   [polska, obiad, dla rodziny, dania główne, sól...   \n8   [polska, obiad, dla rodziny, dania główne, sól...   \n9   [na słodko, deser, kakao decomorreno, śniadani...   \n10  [sól, na słodko, cukier, masło, wypieki, prosz...   \n11  [dla rodziny, sól, na słodko, cukier, masło, i...   \n12  [sól, na słodko, warzywa, cukier, masło, impre...   \n13  [sól, na słodko, cukier, masło, wypieki, impre...   \n14  [sól, na słodko, warzywa, masło, wypieki, pros...   \n15  [na słodko, deser, kakao decomorreno, podwiecz...   \n16  [na słodko, dla dzieci, deser, kakao decomorre...   \n17  [sól, na słodko, cukier, masło, wypieki, impre...   \n18  [sól, na słodko, impreza, deser, kakao decomor...   \n19  [dla rodziny, dania główne, sól, cebula, sól, ...   \n\n                          allergens   skill          time       author  \\\n0                              None   Łatwy     Do 15 min  decomorreno   \n1   [Gluten, Laktoza, Mleko, Jajka]   Łatwy     Do 1 godz  decomorreno   \n2                           [Jajka]  Średni     Do 1 godz  decomorreno   \n3                   [Gluten, Jajka]  Średni     Do 1 godz  decomorreno   \n4                              None   Łatwy  Ponad 3 godz      lubella   \n5                              None   Łatwy     Do 2 godz      lubella   \n6                              None  Średni     Do 3 godz      lubella   \n7                              None   Łatwy     Do 3 godz      lubella   \n8                              None   Łatwy     Do 3 godz      lubella   \n9                              None   Łatwy     Do 15 min  decomorreno   \n10         [Gluten, Laktoza, Jajka]  Średni     Do 1 godz  decomorreno   \n11  [Gluten, Laktoza, Mleko, Jajka]  Średni   Do 1,5 godz  decomorreno   \n12         [Gluten, Laktoza, Jajka]   Łatwy     Do 40 min  decomorreno   \n13                             None  Średni   Do 1,5 godz  decomorreno   \n14         [Gluten, Laktoza, Jajka]  Średni   Do 1,5 godz  decomorreno   \n15                             None   Łatwy     Do 40 min  decomorreno   \n16                  [Gluten, Jajka]   Łatwy     Do 15 min  decomorreno   \n17  [Gluten, Laktoza, Mleko, Jajka]  Średni   Do 1,5 godz  decomorreno   \n18        [Gluten, Orzechy, ziemne]   Łatwy     Do 1 godz  decomorreno   \n19                             None   Łatwy   Do 1,5 godz      lubella   \n\n                                                 link  \n0   http://uwielbiam.pl//przepis/krem-czekoladowy-...  \n1   http://uwielbiam.pl//przepis/ciasteczkowe-choinki  \n2   http://uwielbiam.pl//przepis/tort-czekoladowy-...  \n3   http://uwielbiam.pl//przepis/ciasto-barborkowe...  \n4   http://uwielbiam.pl//przepis/paszteciki-z-grzy...  \n5     http://uwielbiam.pl//przepis/sernik-krolewski-3  \n6   http://uwielbiam.pl//przepis/pierniczki-swiate...  \n7       http://uwielbiam.pl//przepis/uszka-z-grzybami  \n8   http://uwielbiam.pl//przepis/tradycyjne-pierog...  \n9   http://uwielbiam.pl//przepis/czekoladowo-mieto...  \n10  http://uwielbiam.pl//przepis/wloskie-czekolado...  \n11  http://uwielbiam.pl//przepis/rogale-dyniowo-cz...  \n12  http://uwielbiam.pl//przepis/ciasto-czekoladow...  \n13  http://uwielbiam.pl//przepis/drozdzowe-rogalik...  \n14  http://uwielbiam.pl//przepis/delikatne-ciasto-...  \n15  http://uwielbiam.pl//przepis/4-skladnikowe-fit...  \n16  http://uwielbiam.pl//przepis/najprostszy-omlet...  \n17  http://uwielbiam.pl//przepis/ciasteczka-thumbp...  \n18  http://uwielbiam.pl//przepis/dyniowo-czekolado...  \n19  http://uwielbiam.pl//przepis/grecka-zapiekanka...  "
     },
     "execution_count": 19,
     "metadata": {},
     "output_type": "execute_result"
    }
   ],
   "source": [
    "DATA = extract_data(uwielbiam.link, True)\n",
    "DATA"
   ]
  }
 ],
 "metadata": {
  "kernelspec": {
   "display_name": "Python 3",
   "language": "python",
   "name": "python3"
  },
  "language_info": {
   "codemirror_mode": {
    "name": "ipython",
    "version": 3
   },
   "file_extension": ".py",
   "mimetype": "text/x-python",
   "name": "python",
   "nbconvert_exporter": "python",
   "pygments_lexer": "ipython3",
   "version": "3.6.8"
  }
 },
 "nbformat": 4,
 "nbformat_minor": 4
}