{
 "cells": [
  {
   "cell_type": "markdown",
   "metadata": {},
   "source": [
    "# **cookbook** | webscraping\n",
    "\n",
    "Data extraction from webpage: https://uwielbiam.pl"
   ]
  },
  {
   "cell_type": "code",
   "execution_count": 1,
   "metadata": {},
   "outputs": [],
   "source": [
    "#! pip install httplib2"
   ]
  },
  {
   "cell_type": "code",
   "execution_count": 2,
   "metadata": {},
   "outputs": [],
   "source": [
    "import re\n",
    "import numpy as np\n",
    "import pandas as pd\n",
    "import httplib2\n",
    "import requests\n",
    "from bs4 import BeautifulSoup, SoupStrainer\n",
    "from collections import Counter\n",
    "from tqdm import tqdm\n",
    "\n",
    "import warnings\n",
    "warnings.filterwarnings(\"ignore\")"
   ]
  },
  {
   "cell_type": "markdown",
   "metadata": {},
   "source": [
    "### MAIN DISHES"
   ]
  },
  {
   "cell_type": "code",
   "execution_count": 3,
   "metadata": {},
   "outputs": [],
   "source": [
    "class Webpage(object):\n",
    "    \n",
    "    def __init__(self, link):\n",
    "        self.link = link\n",
    "        self.link_przepisy = link + '/przepisy?pg='\n",
    "        self.link_przepis = link + '/przepis/'\n",
    "        \n",
    "    def one_page_meals(self, number):\n",
    "        \"\"\"Return list with all dishes from a particular page\"\"\"\n",
    "        if number > 0:\n",
    "            all_links = []\n",
    "            http = httplib2.Http()\n",
    "            status, response = http.request(self.link_przepisy + str(number))\n",
    "            for link in BeautifulSoup(response, 'html.parser', parseOnlyThese=SoupStrainer('a')):\n",
    "                if link.has_attr('href') and link['href'].startswith('/przepis/'):\n",
    "                    all_links.append(((link['href'])[len('/przepis/'):]).replace('-', ' '))\n",
    "            return all_links\n",
    "        else:\n",
    "            print(\"number variable needs to be greater than zero.\")\n",
    "\n",
    "    def one_page_links(self, number):\n",
    "        \"\"\"Return list with all dishes links from a particular page\"\"\"\n",
    "        if number > 0:\n",
    "            all_links = []\n",
    "            http = httplib2.Http()\n",
    "            status, response = http.request(self.link_przepisy + str(number))\n",
    "            for link in BeautifulSoup(response, 'html.parser', parseOnlyThese=SoupStrainer('a')):\n",
    "                if link.has_attr('href') and link['href'].startswith('/przepis/'):\n",
    "                    all_links.append(self.link_przepis + (link['href'])[len('/przepis/'):])\n",
    "            return all_links\n",
    "        else:\n",
    "            print(\"number variable needs to be greater than zero.\")\n",
    "            \n",
    "    @property\n",
    "    def all_links(self):\n",
    "        \"\"\"Return list with all dishes names from the webpage\"\"\"\n",
    "        all_pages = 458\n",
    "        if number > 0:\n",
    "            all_links = []\n",
    "            for i in range(1, all_pages):\n",
    "                if i%10 == 0:\n",
    "                    print(f'{i}/{all_pages}', end='\\r')\n",
    "                http = httplib2.Http()\n",
    "                status, response = http.request(self.link_przepisy + str(i))\n",
    "                for link in BeautifulSoup(response, 'html.parser', parseOnlyThese=SoupStrainer('a')):\n",
    "                    if link.has_attr('href') and link['href'].startswith('/przepis/'):\n",
    "                        all_links.append(self.link_przepis + (link['href'])[len('/przepis/'):])\n",
    "            return all_links\n",
    "        else:\n",
    "            print(\"number variable needs to be greater than zero.\")"
   ]
  },
  {
   "cell_type": "code",
   "execution_count": 4,
   "metadata": {},
   "outputs": [
    {
     "data": {
      "text/plain": [
       "'http://uwielbiam.pl/'"
      ]
     },
     "execution_count": 4,
     "metadata": {},
     "output_type": "execute_result"
    }
   ],
   "source": [
    "uwielbiam = Webpage('http://uwielbiam.pl/')\n",
    "uwielbiam.link"
   ]
  },
  {
   "cell_type": "code",
   "execution_count": 5,
   "metadata": {},
   "outputs": [
    {
     "data": {
      "text/plain": [
       "['salatka z brukselka i ogorkami kiszonymi krakus',\n",
       " 'salatka z gruszka i serem plesniowym',\n",
       " 'salatka z winogronem i serem plesniowym',\n",
       " 'salatka z figami i szynka parmenska',\n",
       " 'salatka z winogronem i kurczakiem',\n",
       " 'salatka ziemniaczana z bobem boczkiem i korniszonami z chili i francuskim ',\n",
       " 'salatka z pieczonych burakow i mozzarelli z dressingiem z syropu malinowego 2',\n",
       " 'mini makaron czekoladowy z truskawkami arbuzem i sosem czekoladowym',\n",
       " 'salatka z makaronem czekoladowym feta arbuzem zielonymi oliwkami i cebula',\n",
       " 'wiosenna salatka z kalarepy z ogorkami konserwowymi krakus',\n",
       " 'salatka ziemniaczana z ogorkami kiszonymi krakus',\n",
       " 'salatka gyros ale grecka z ogorkami korniszony z chili',\n",
       " 'salatka makaronowa z pieczonym miesem',\n",
       " 'makaron ryzowy z awokado jajkiem mozzarella i sosem bazyliowym',\n",
       " 'salatka jajeczna z paluszkami krabowymi',\n",
       " 'salatka z jarmuzu i awokado',\n",
       " 'kasza peczak ze szpinakiem',\n",
       " 'salatka z awokado i lososiem',\n",
       " 'salatka z granatem i kurczakiem',\n",
       " 'salatka jarzynowa z chlebem pelnoziarnistym']"
      ]
     },
     "execution_count": 5,
     "metadata": {},
     "output_type": "execute_result"
    }
   ],
   "source": [
    "uwielbiam.one_page_meals(1)"
   ]
  },
  {
   "cell_type": "code",
   "execution_count": 6,
   "metadata": {},
   "outputs": [
    {
     "data": {
      "text/plain": [
       "['http://uwielbiam.pl//przepis/salatka-z-brukselka-i-ogorkami-kiszonymi-krakus',\n",
       " 'http://uwielbiam.pl//przepis/salatka-z-gruszka-i-serem-plesniowym',\n",
       " 'http://uwielbiam.pl//przepis/salatka-z-winogronem-i-serem-plesniowym',\n",
       " 'http://uwielbiam.pl//przepis/salatka-z-figami-i-szynka-parmenska',\n",
       " 'http://uwielbiam.pl//przepis/salatka-z-winogronem-i-kurczakiem',\n",
       " 'http://uwielbiam.pl//przepis/salatka-ziemniaczana-z-bobem-boczkiem-i-korniszonami-z-chili-i-francuskim-',\n",
       " 'http://uwielbiam.pl//przepis/salatka-z-pieczonych-burakow-i-mozzarelli-z-dressingiem-z-syropu-malinowego-2',\n",
       " 'http://uwielbiam.pl//przepis/mini-makaron-czekoladowy-z-truskawkami-arbuzem-i-sosem-czekoladowym',\n",
       " 'http://uwielbiam.pl//przepis/salatka-z-makaronem-czekoladowym-feta-arbuzem-zielonymi-oliwkami-i-cebula',\n",
       " 'http://uwielbiam.pl//przepis/wiosenna-salatka-z-kalarepy-z-ogorkami-konserwowymi-krakus',\n",
       " 'http://uwielbiam.pl//przepis/salatka-ziemniaczana-z-ogorkami-kiszonymi-krakus',\n",
       " 'http://uwielbiam.pl//przepis/salatka-gyros-ale-grecka-z-ogorkami-korniszony-z-chili',\n",
       " 'http://uwielbiam.pl//przepis/salatka-makaronowa-z-pieczonym-miesem',\n",
       " 'http://uwielbiam.pl//przepis/makaron-ryzowy-z-awokado-jajkiem-mozzarella-i-sosem-bazyliowym',\n",
       " 'http://uwielbiam.pl//przepis/salatka-jajeczna-z-paluszkami-krabowymi',\n",
       " 'http://uwielbiam.pl//przepis/salatka-z-jarmuzu-i-awokado',\n",
       " 'http://uwielbiam.pl//przepis/kasza-peczak-ze-szpinakiem',\n",
       " 'http://uwielbiam.pl//przepis/salatka-z-awokado-i-lososiem',\n",
       " 'http://uwielbiam.pl//przepis/salatka-z-granatem-i-kurczakiem',\n",
       " 'http://uwielbiam.pl//przepis/salatka-jarzynowa-z-chlebem-pelnoziarnistym']"
      ]
     },
     "execution_count": 6,
     "metadata": {},
     "output_type": "execute_result"
    }
   ],
   "source": [
    "uwielbiam.one_page_links(1)"
   ]
  },
  {
   "cell_type": "markdown",
   "metadata": {},
   "source": [
    "### DISH PROPERTIES"
   ]
  },
  {
   "cell_type": "code",
   "execution_count": 7,
   "metadata": {},
   "outputs": [],
   "source": [
    "class Uwielbiam_dish_page(object):\n",
    "    \n",
    "    def __init__(self, link):\n",
    "        self.link = link\n",
    "        self.html_content = BeautifulSoup(requests.get(link).content)\n",
    "        \n",
    "    @property\n",
    "    def title(self):\n",
    "        title_content = self.html_content.find('h1', attrs = {'class': 'h-section'})\n",
    "        return title_content.text\n",
    "    \n",
    "    @property\n",
    "    def description(self):\n",
    "        description_content = self.html_content.find('p', attrs = {'class': 'p--description'})\n",
    "        try:\n",
    "            description_content = description_content.text.replace('\\u2028\\r', ' ').replace('  \\n', ' ').replace('\\r\\n', '')\n",
    "        except:\n",
    "            description_content = 'None'\n",
    "        return description_content\n",
    "    \n",
    "    @property\n",
    "    def ingredients(self):\n",
    "        ingr = self.html_content.find_all('tr', attrs = {'class': 'ingredients_row'})\n",
    "        x_list = []\n",
    "        for x in ingr:\n",
    "            x_list.append(x.text.split())\n",
    "        ingredients = []\n",
    "        for x in x_list[:-2]:\n",
    "            try: \n",
    "                x1 = int(x[0])\n",
    "                x2 = x[1]\n",
    "                x3 = ' '.join(x[2:])\n",
    "                ingredients.append([x1, x2, x3])\n",
    "            except:\n",
    "                ingredients.append([' '.join(x)])\n",
    "            pass\n",
    "        return ingredients\n",
    "    \n",
    "    @property\n",
    "    def preparation(self):\n",
    "        preparation_content = self.html_content.find_all('li', attrs = {'class': 'recipe-list--row'})\n",
    "        prep_content = []\n",
    "        for i in range(len(preparation_content)):\n",
    "            prep_content.append(preparation_content[i].text.strip().replace('\\r\\n', ''))\n",
    "        return prep_content\n",
    "    \n",
    "    @property\n",
    "    def tags(self):\n",
    "        tags = self.html_content.find_all('a', attrs = {'class': 'tag f-element'})\n",
    "        tag_content = []\n",
    "        for n in range(len(tags)):\n",
    "            tag_content.append(tags[n].text.lower())\n",
    "        return tag_content\n",
    "    \n",
    "    @property\n",
    "    def allergens(self):\n",
    "        ingr = self.html_content.find_all('tr', attrs = {'class': 'ingredients_row'})\n",
    "        x_list = []\n",
    "        for x in ingr:\n",
    "            x_list.append(x.text.split())\n",
    "        save = 0\n",
    "        allergens = []\n",
    "        for counter, item in enumerate(x_list[-2]):\n",
    "            if item == \"Alergeny\":\n",
    "                save = 1\n",
    "            else:\n",
    "                if save == 1:\n",
    "                    allergens.append(item)\n",
    "                else:\n",
    "                    pass\n",
    "        if allergens == []:\n",
    "            return 'None'\n",
    "        return allergens\n",
    "    \n",
    "    @property\n",
    "    def skill(self):\n",
    "        return self.html_content.find_all('span', attrs = {'class': 'ico-info_content'})[0].text\n",
    "        \n",
    "    @property\n",
    "    def time(self):\n",
    "        return self.html_content.find_all('span', attrs = {'class': 'ico-info_content'})[1].text\n",
    "    \n",
    "    @property\n",
    "    def author(self):\n",
    "        return self.html_content.find_all('p', attrs = {'class': 'user_name'})[1].text"
   ]
  },
  {
   "cell_type": "code",
   "execution_count": 8,
   "metadata": {},
   "outputs": [
    {
     "data": {
      "text/plain": [
       "'https://uwielbiam.pl/przepis/ciasteczka-thumbprint-z-nadzieniem-krowkowym-i-orzechami'"
      ]
     },
     "execution_count": 8,
     "metadata": {},
     "output_type": "execute_result"
    }
   ],
   "source": [
    "meal = Uwielbiam_dish_page('https://uwielbiam.pl/przepis/ciasteczka-thumbprint-z-nadzieniem-krowkowym-i-orzechami')\n",
    "meal.link"
   ]
  },
  {
   "cell_type": "code",
   "execution_count": 9,
   "metadata": {},
   "outputs": [
    {
     "data": {
      "text/plain": [
       "'Ciasteczka thumbprint z nadzieniem krówkowym i orzechami'"
      ]
     },
     "execution_count": 9,
     "metadata": {},
     "output_type": "execute_result"
    }
   ],
   "source": [
    "meal.title"
   ]
  },
  {
   "cell_type": "code",
   "execution_count": 10,
   "metadata": {},
   "outputs": [
    {
     "data": {
      "text/plain": [
       "'Przedstawiamy naszą krówkowo-orzechową ciasteczkową wariację. Są to pyszne, chrupiące i bardzo efektowne ciasteczka z wyraźną nutą kakaową. Idealnie sprawdzą się jako dodatek do kawy lub kubka herbaty podczas długich jesienno-zimowych wieczorów.'"
      ]
     },
     "execution_count": 10,
     "metadata": {},
     "output_type": "execute_result"
    }
   ],
   "source": [
    "meal.description"
   ]
  },
  {
   "cell_type": "code",
   "execution_count": 11,
   "metadata": {},
   "outputs": [
    {
     "data": {
      "text/plain": [
       "[['SKŁADNIKI NA CIASTO'],\n",
       " [130, 'Gramów', 'mąka pszenna tortowa Lubella'],\n",
       " [30, 'Gramów', 'Kakao DecoMorreno'],\n",
       " [110, 'Gramów', 'masło'],\n",
       " [150, 'Gramów', 'cukier'],\n",
       " [1, 'Szczypta', 'sól'],\n",
       " [2, 'Sztuki', 'jajko'],\n",
       " [1, 'Szklanka', 'Orzechy laskowe mielone'],\n",
       " ['SKŁADNIKI NA NADZIENIE'],\n",
       " [150, 'Gramów', 'Cukierki krówki'],\n",
       " [3, 'Łyżki', 'śmietanka kremowa 30%'],\n",
       " [50, 'Gramów', 'Mleczna czekolada']]"
      ]
     },
     "execution_count": 11,
     "metadata": {},
     "output_type": "execute_result"
    }
   ],
   "source": [
    "meal.ingredients"
   ]
  },
  {
   "cell_type": "code",
   "execution_count": 12,
   "metadata": {},
   "outputs": [
    {
     "data": {
      "text/plain": [
       "['Wymieszaj w misce mąkę i kakao. W drugiej misce zmiksuj masło z cukrem i solą na puszystą masę. Dodaj żółtka z jajek. W następnej kolejności dodaj suche składniki i miksuj całość aż do połączenia.',\n",
       " 'Przykryj ciasto folią i wstaw do lodówki na godzinę. Następnie roztrzep białko widelcem. Formuj małe kulki z ciasta, mocz je w białku i obtaczaj w orzechach.',\n",
       " 'Przygotowane w ten sposób ciastka układaj na blasze w odstępach. Na środku każdego ciasteczka zrób wgłębienie. Piecz je w  nagrzanym do 180°C piekarniku przez około 10-12 minut.',\n",
       " 'Upieczone ciastka ostudź, po czym ponownie zrób w nich wgłębienia. W małym rondlu rozpuść krówki ze śmietanką. Tak przygotowaną masą wypełnij wgłębienia w ciastkach.',\n",
       " 'Gdy masa krówkowa zastygnie, rozpuść w kąpieli wodnej czekoladę i polej nią ciastka.']"
      ]
     },
     "execution_count": 12,
     "metadata": {},
     "output_type": "execute_result"
    }
   ],
   "source": [
    "meal.preparation"
   ]
  },
  {
   "cell_type": "code",
   "execution_count": 13,
   "metadata": {},
   "outputs": [
    {
     "data": {
      "text/plain": [
       "['sól',\n",
       " 'na słodko',\n",
       " 'cukier',\n",
       " 'masło',\n",
       " 'wypieki',\n",
       " 'impreza',\n",
       " 'deser',\n",
       " 'kakao decomorreno',\n",
       " 'jajko',\n",
       " 'podwieczorek',\n",
       " 'kakao',\n",
       " 'przystawki i przekąski',\n",
       " 'mąka pszenna tortowa lubella',\n",
       " 'bezmięsna',\n",
       " 'śmietanka kremowa 30%',\n",
       " 'urodziny imieniny',\n",
       " 'grill i piknik',\n",
       " 'mleczna czekolada',\n",
       " 'orzechy laskowe mielone',\n",
       " 'cukierki krówki']"
      ]
     },
     "execution_count": 13,
     "metadata": {},
     "output_type": "execute_result"
    }
   ],
   "source": [
    "meal.tags"
   ]
  },
  {
   "cell_type": "code",
   "execution_count": 14,
   "metadata": {},
   "outputs": [
    {
     "data": {
      "text/plain": [
       "['Gluten', 'Laktoza', 'Mleko', 'Jajka']"
      ]
     },
     "execution_count": 14,
     "metadata": {},
     "output_type": "execute_result"
    }
   ],
   "source": [
    "meal.allergens"
   ]
  },
  {
   "cell_type": "code",
   "execution_count": 15,
   "metadata": {},
   "outputs": [
    {
     "data": {
      "text/plain": [
       "'Średni'"
      ]
     },
     "execution_count": 15,
     "metadata": {},
     "output_type": "execute_result"
    }
   ],
   "source": [
    "meal.skill"
   ]
  },
  {
   "cell_type": "code",
   "execution_count": 16,
   "metadata": {},
   "outputs": [
    {
     "data": {
      "text/plain": [
       "'Do 1,5 godz'"
      ]
     },
     "execution_count": 16,
     "metadata": {},
     "output_type": "execute_result"
    }
   ],
   "source": [
    "meal.time"
   ]
  },
  {
   "cell_type": "code",
   "execution_count": 17,
   "metadata": {},
   "outputs": [
    {
     "data": {
      "text/plain": [
       "'decomorreno'"
      ]
     },
     "execution_count": 17,
     "metadata": {},
     "output_type": "execute_result"
    }
   ],
   "source": [
    "meal.author"
   ]
  },
  {
   "cell_type": "markdown",
   "metadata": {},
   "source": [
    "### DATA EXTRACTION"
   ]
  },
  {
   "cell_type": "code",
   "execution_count": 18,
   "metadata": {},
   "outputs": [],
   "source": [
    "def dish_information(link):\n",
    "    \"\"\"Return list with information about the meal.\"\"\"\n",
    "    meal = Uwielbiam_dish_page(link)\n",
    "    return [meal.title, meal.description, meal.ingredients, meal.preparation, meal.tags,\n",
    "           meal.allergens, meal.skill, meal.time, meal.author, meal.link]"
   ]
  },
  {
   "cell_type": "code",
   "execution_count": 19,
   "metadata": {},
   "outputs": [],
   "source": [
    "def extract_data(main_link):\n",
    "    \"\"\"\n",
    "    Function which takes as a input list with dishes links and return\n",
    "    a DataFrame with dish: title, description, ingredients, preparation procedure, \n",
    "    tags and allergens.\n",
    "    \"\"\"\n",
    "    \n",
    "    # build object of the webpage\n",
    "    uwielbiam = Webpage(main_link)\n",
    "    \n",
    "    # get list with meal links from page: 1\n",
    "    # (change to: uwielbiam.all_links if you want to get all data)  \n",
    "    links = uwielbiam.one_page_links(1)  \n",
    "    \n",
    "    # extract meal information from each page\n",
    "    cookbook = {}\n",
    "    for counter in tqdm(range(len(links))):\n",
    "        cookbook[counter] = dish_information(links[counter])\n",
    "\n",
    "    column_names = [\"title\", \"description\", \"ingredients\", \"preparation\", \"tags\", \"allergens\", \"skill\", \"time\", \"author\", \"link\"]\n",
    "    return pd.DataFrame.from_dict(cookbook, orient='index', columns=column_names)"
   ]
  },
  {
   "cell_type": "code",
   "execution_count": 20,
   "metadata": {},
   "outputs": [
    {
     "name": "stderr",
     "output_type": "stream",
     "text": [
      "100%|██████████| 20/20 [00:36<00:00,  1.84s/it]\n"
     ]
    },
    {
     "data": {
      "text/html": [
       "<div>\n",
       "<style scoped>\n",
       "    .dataframe tbody tr th:only-of-type {\n",
       "        vertical-align: middle;\n",
       "    }\n",
       "\n",
       "    .dataframe tbody tr th {\n",
       "        vertical-align: top;\n",
       "    }\n",
       "\n",
       "    .dataframe thead th {\n",
       "        text-align: right;\n",
       "    }\n",
       "</style>\n",
       "<table border=\"1\" class=\"dataframe\">\n",
       "  <thead>\n",
       "    <tr style=\"text-align: right;\">\n",
       "      <th></th>\n",
       "      <th>title</th>\n",
       "      <th>description</th>\n",
       "      <th>ingredients</th>\n",
       "      <th>preparation</th>\n",
       "      <th>tags</th>\n",
       "      <th>allergens</th>\n",
       "      <th>skill</th>\n",
       "      <th>time</th>\n",
       "      <th>author</th>\n",
       "      <th>link</th>\n",
       "    </tr>\n",
       "  </thead>\n",
       "  <tbody>\n",
       "    <tr>\n",
       "      <th>0</th>\n",
       "      <td>Sałatka z brukselką i ogórkami kiszonymi Krakus</td>\n",
       "      <td>.</td>\n",
       "      <td>[[200, Gramów, Brukselka], [0.5 Szklanki Kasza...</td>\n",
       "      <td>[Ugotować kaszę pęczak., Brukselkę cienko posi...</td>\n",
       "      <td>[dla rodziny, sól, warzywa, kolacja, oliwa z o...</td>\n",
       "      <td>None</td>\n",
       "      <td>Łatwy</td>\n",
       "      <td>Do 40 min</td>\n",
       "      <td>Krakus</td>\n",
       "      <td>http://uwielbiam.pl//przepis/salatka-z-bruksel...</td>\n",
       "    </tr>\n",
       "    <tr>\n",
       "      <th>1</th>\n",
       "      <td>Sałatka z gruszką i serem pleśniowym</td>\n",
       "      <td>Chrupiąca sałatka z gruszką, serem pleśniowym ...</td>\n",
       "      <td>[[1, Szklanka, Lubella Mlekołaki Miodo Kółka],...</td>\n",
       "      <td>[Ser pleśniowy kroimy w małą kostkę., Rukolę i...</td>\n",
       "      <td>[sól, pieprz, podwieczorek, sok z cytryny, oli...</td>\n",
       "      <td>None</td>\n",
       "      <td>Łatwy</td>\n",
       "      <td>Do 15 min</td>\n",
       "      <td>lubella</td>\n",
       "      <td>http://uwielbiam.pl//przepis/salatka-z-gruszka...</td>\n",
       "    </tr>\n",
       "    <tr>\n",
       "      <th>2</th>\n",
       "      <td>Sałatka z winogronem i serem pleśniowym</td>\n",
       "      <td>Sałatka makaronowa z winogronami i serem pleśn...</td>\n",
       "      <td>[[300, Gramów, makaron uszka Lubella], [20, Sz...</td>\n",
       "      <td>[Makaron gotujemy według zaleceń producenta na...</td>\n",
       "      <td>[dla rodziny, sól, pieprz, owoce, kolacja, pod...</td>\n",
       "      <td>None</td>\n",
       "      <td>Łatwy</td>\n",
       "      <td>Do 15 min</td>\n",
       "      <td>lubella</td>\n",
       "      <td>http://uwielbiam.pl//przepis/salatka-z-winogro...</td>\n",
       "    </tr>\n",
       "    <tr>\n",
       "      <th>3</th>\n",
       "      <td>Sałatka z figami i szynką parmeńską</td>\n",
       "      <td>Szybko, smacznie i baaardzo ciekawie. Jeżeli l...</td>\n",
       "      <td>[[400, Gramów, makaron Lubella Pełne Ziarno św...</td>\n",
       "      <td>[Makaron gotujemy według zaleceń producenta na...</td>\n",
       "      <td>[sól, pieprz, kolacja, podwieczorek, sok z cyt...</td>\n",
       "      <td>None</td>\n",
       "      <td>Łatwy</td>\n",
       "      <td>Do 15 min</td>\n",
       "      <td>lubella</td>\n",
       "      <td>http://uwielbiam.pl//przepis/salatka-z-figami-...</td>\n",
       "    </tr>\n",
       "    <tr>\n",
       "      <th>4</th>\n",
       "      <td>Sałatka z winogronem i kurczakiem</td>\n",
       "      <td>Pomysł na zdrową, niebanalną kolację, w słodko...</td>\n",
       "      <td>[[0.5 Sztuki Rukola], [10, Sztuk, Winogrona], ...</td>\n",
       "      <td>[Pierś kurczaka myjemy i osuszamy. Kroimy w ko...</td>\n",
       "      <td>[warzywa, sól, pieprz, owoce, kolacja, podwiec...</td>\n",
       "      <td>None</td>\n",
       "      <td>Łatwy</td>\n",
       "      <td>Do 40 min</td>\n",
       "      <td>Łowicz</td>\n",
       "      <td>http://uwielbiam.pl//przepis/salatka-z-winogro...</td>\n",
       "    </tr>\n",
       "    <tr>\n",
       "      <th>5</th>\n",
       "      <td>Sałatka ziemniaczana z bobem, boczkiem i korni...</td>\n",
       "      <td>Bób - korzystajcie póki jest dostępny świeży ;...</td>\n",
       "      <td>[[200, Gramów, Bób], [250, Gramów, ziemniaki],...</td>\n",
       "      <td>[Warzywa ugotować, aby były al dente., Boczek ...</td>\n",
       "      <td>[obiad, dla rodziny, warzywa, sól, pieprz, kol...</td>\n",
       "      <td>None</td>\n",
       "      <td>Łatwy</td>\n",
       "      <td>Do 40 min</td>\n",
       "      <td>Krakus</td>\n",
       "      <td>http://uwielbiam.pl//przepis/salatka-ziemniacz...</td>\n",
       "    </tr>\n",
       "    <tr>\n",
       "      <th>6</th>\n",
       "      <td>Sałatka z pieczonych buraków i mozzarelli z dr...</td>\n",
       "      <td>Zdrowa, lekka i przede wszystkim letnia sałatk...</td>\n",
       "      <td>[[2, Sztuki, Buraki], [2, Szklanki, Rukola], [...</td>\n",
       "      <td>[Buraki (nie obierać!) owinąć w folię i piec w...</td>\n",
       "      <td>[warzywa, kolacja, sałatka, oliwa z oliwek, po...</td>\n",
       "      <td>None</td>\n",
       "      <td>Łatwy</td>\n",
       "      <td>Do 1,5 godz</td>\n",
       "      <td>Łowicz</td>\n",
       "      <td>http://uwielbiam.pl//przepis/salatka-z-pieczon...</td>\n",
       "    </tr>\n",
       "    <tr>\n",
       "      <th>7</th>\n",
       "      <td>Mini makaron czekoladowy z truskawkami, arbuze...</td>\n",
       "      <td>Sałatka z makaronem i owocami to deser nie tyl...</td>\n",
       "      <td>[[130, Gramów, Makaron Lubella Mini świderki z...</td>\n",
       "      <td>[Makaron ugotować według wskazówek na opakowan...</td>\n",
       "      <td>[polska, impreza, deser, owoce, podwieczorek, ...</td>\n",
       "      <td>None</td>\n",
       "      <td>Łatwy</td>\n",
       "      <td>Do 40 min</td>\n",
       "      <td>lubella</td>\n",
       "      <td>http://uwielbiam.pl//przepis/mini-makaron-czek...</td>\n",
       "    </tr>\n",
       "    <tr>\n",
       "      <th>8</th>\n",
       "      <td>Sałatka z makaronem czekoladowym, fetą, arbuze...</td>\n",
       "      <td>Ta sałatka dowodzi, że makaron czekoladowy świ...</td>\n",
       "      <td>[[130, Gramów, Makaron Lubella Mini świderki z...</td>\n",
       "      <td>[Makaron ugotować według wskazówek na opakowan...</td>\n",
       "      <td>[warzywa, kolacja, oliwa z oliwek, podwieczore...</td>\n",
       "      <td>None</td>\n",
       "      <td>Łatwy</td>\n",
       "      <td>Do 40 min</td>\n",
       "      <td>lubella</td>\n",
       "      <td>http://uwielbiam.pl//przepis/salatka-z-makaron...</td>\n",
       "    </tr>\n",
       "    <tr>\n",
       "      <th>9</th>\n",
       "      <td>Wiosenna sałatka z kalarepy z ogórkami konserw...</td>\n",
       "      <td>Warzywna sałatka z kalarepą i ogórkami konserw...</td>\n",
       "      <td>[[1, Sztuka, Kalarepa], [3, Sztuki, ogórki kon...</td>\n",
       "      <td>[Kalarepę zetrzeć na tarce o dużych oczkach., ...</td>\n",
       "      <td>[polska, warzywa, sól, pieprz, kolacja, majone...</td>\n",
       "      <td>None</td>\n",
       "      <td>Łatwy</td>\n",
       "      <td>Do 40 min</td>\n",
       "      <td>Krakus</td>\n",
       "      <td>http://uwielbiam.pl//przepis/wiosenna-salatka-...</td>\n",
       "    </tr>\n",
       "    <tr>\n",
       "      <th>10</th>\n",
       "      <td>Sałatka ziemniaczana z ogórkami kiszonymi Krakus</td>\n",
       "      <td>Zdrowa, kolorowa, wprost idealna sałatka warzy...</td>\n",
       "      <td>[[250, Gramów, ziemniaki młode], [0.35 Sztuki ...</td>\n",
       "      <td>[Ziemniaki wyszorować ze skórki, ugotować, ost...</td>\n",
       "      <td>[polska, warzywa, sól, pieprz, podwieczorek, s...</td>\n",
       "      <td>None</td>\n",
       "      <td>Łatwy</td>\n",
       "      <td>Do 40 min</td>\n",
       "      <td>Krakus</td>\n",
       "      <td>http://uwielbiam.pl//przepis/salatka-ziemniacz...</td>\n",
       "    </tr>\n",
       "    <tr>\n",
       "      <th>11</th>\n",
       "      <td>Sałatka gyros ale grecka z ogórkami Korniszony...</td>\n",
       "      <td>Takiej sałatki gyros jeszcze nie próbowaliście...</td>\n",
       "      <td>[[Kebab:], [200, Gramów, polędwiczki wieprzowe...</td>\n",
       "      <td>[Mięso dobrze zmielić, doprawić przyprawą, sol...</td>\n",
       "      <td>[sól, warzywa, cebula, majonez, podwieczorek, ...</td>\n",
       "      <td>None</td>\n",
       "      <td>Łatwy</td>\n",
       "      <td>Do 40 min</td>\n",
       "      <td>Krakus</td>\n",
       "      <td>http://uwielbiam.pl//przepis/salatka-gyros-ale...</td>\n",
       "    </tr>\n",
       "    <tr>\n",
       "      <th>12</th>\n",
       "      <td>Sałatka makaronowa z pieczonym mięsem</td>\n",
       "      <td>Makaron kokardki jest świetną bazą do sałatek....</td>\n",
       "      <td>[[300, Gramów, makaron Lubella kokardki], [0.5...</td>\n",
       "      <td>[Makaron ugotować w posolonej wodzie., Mięso u...</td>\n",
       "      <td>[dla rodziny, mięso, sól, pieprz, kolacja, śni...</td>\n",
       "      <td>None</td>\n",
       "      <td>Łatwy</td>\n",
       "      <td>Do 1 godz</td>\n",
       "      <td>lubella</td>\n",
       "      <td>http://uwielbiam.pl//przepis/salatka-makaronow...</td>\n",
       "    </tr>\n",
       "    <tr>\n",
       "      <th>13</th>\n",
       "      <td>Makaron ryżowy z awokado, jajkiem, mozzarellą ...</td>\n",
       "      <td>Makaron ryżowy idealnie pasuje do sałatek i da...</td>\n",
       "      <td>[[1, Szklanka, Makaron Lubella Jajeczna Ryż], ...</td>\n",
       "      <td>[Ugotować jaja na twardo i pokroić w ćwiartki....</td>\n",
       "      <td>[polska, dla rodziny, cukier, sól, pieprz, kol...</td>\n",
       "      <td>None</td>\n",
       "      <td>Łatwy</td>\n",
       "      <td>Do 40 min</td>\n",
       "      <td>lubella</td>\n",
       "      <td>http://uwielbiam.pl//przepis/makaron-ryzowy-z-...</td>\n",
       "    </tr>\n",
       "    <tr>\n",
       "      <th>14</th>\n",
       "      <td>Sałatka jajeczna z paluszkami krabowymi</td>\n",
       "      <td>Sałatka idealna jako przystawka na spotkanie z...</td>\n",
       "      <td>[[5, Sztuk, Jaja L], [10, Sztuk, Paluszki krab...</td>\n",
       "      <td>[Jajka ugotować, ostudzić, a następnie obrać i...</td>\n",
       "      <td>[sól, pieprz, impreza, kolacja, majonez, przys...</td>\n",
       "      <td>None</td>\n",
       "      <td>Łatwy</td>\n",
       "      <td>Do 40 min</td>\n",
       "      <td>Krakus</td>\n",
       "      <td>http://uwielbiam.pl//przepis/salatka-jajeczna-...</td>\n",
       "    </tr>\n",
       "    <tr>\n",
       "      <th>15</th>\n",
       "      <td>Sałatka z jarmużu i awokado</td>\n",
       "      <td>Jarmuż jest świetną bazą do wielu sałatek ;) W...</td>\n",
       "      <td>[[300, Gramów, Jarmuż], [2, Sztuki, Awokado], ...</td>\n",
       "      <td>[Umyty jarmuż mieszamy z pokrojoną w piórka ce...</td>\n",
       "      <td>[obiad, kolacja, podwieczorek, bez mięsa, bezm...</td>\n",
       "      <td>None</td>\n",
       "      <td>Łatwy</td>\n",
       "      <td>Do 40 min</td>\n",
       "      <td>Kotlin</td>\n",
       "      <td>http://uwielbiam.pl//przepis/salatka-z-jarmuzu...</td>\n",
       "    </tr>\n",
       "    <tr>\n",
       "      <th>16</th>\n",
       "      <td>Kasza pęczak ze szpinakiem</td>\n",
       "      <td>Sałatka z kaszy pęczak to pożywne i zdrowe dan...</td>\n",
       "      <td>[[150, Gramów, Kasza pęczak], [1, Pęczek, Szpi...</td>\n",
       "      <td>[Kasze gotujemy zgodnie z instrukcją na opakow...</td>\n",
       "      <td>[obiad, dania główne, kolacja, ząbek czosnku, ...</td>\n",
       "      <td>None</td>\n",
       "      <td>Łatwy</td>\n",
       "      <td>Do 40 min</td>\n",
       "      <td>Kotlin</td>\n",
       "      <td>http://uwielbiam.pl//przepis/kasza-peczak-ze-s...</td>\n",
       "    </tr>\n",
       "    <tr>\n",
       "      <th>17</th>\n",
       "      <td>Sałatka z awokado i łososiem</td>\n",
       "      <td>Czasami wystarczy ułożyć na talerzu odpowiedni...</td>\n",
       "      <td>[[1, Sztuka, Mix sałat], [100, Gramów, łosoś w...</td>\n",
       "      <td>[Awokado kroimy w plasterki., Korniszony Kraku...</td>\n",
       "      <td>[dla rodziny, impreza, śniadanie, podwieczorek...</td>\n",
       "      <td>None</td>\n",
       "      <td>Łatwy</td>\n",
       "      <td>Do 15 min</td>\n",
       "      <td>Krakus</td>\n",
       "      <td>http://uwielbiam.pl//przepis/salatka-z-awokado...</td>\n",
       "    </tr>\n",
       "    <tr>\n",
       "      <th>18</th>\n",
       "      <td>Sałatka z granatem i kurczakiem</td>\n",
       "      <td>Smaczne i zdrowe połączenie sałaty, owocu gran...</td>\n",
       "      <td>[[1, Sztuka, sałata], [2, Sztuki, Pierś z kurc...</td>\n",
       "      <td>[Kurczaka nacieramy sokiem z cytryny, solą, pi...</td>\n",
       "      <td>[obiad, dla rodziny, mięso, sól, pieprz, kolac...</td>\n",
       "      <td>None</td>\n",
       "      <td>Łatwy</td>\n",
       "      <td>Do 40 min</td>\n",
       "      <td>Krakus</td>\n",
       "      <td>http://uwielbiam.pl//przepis/salatka-z-granate...</td>\n",
       "    </tr>\n",
       "    <tr>\n",
       "      <th>19</th>\n",
       "      <td>Sałatka jarzynowa z chlebem pełnoziarnistym</td>\n",
       "      <td>Poznaj przepis na prostą, a zarazem bardzo sma...</td>\n",
       "      <td>[[2, Sztuki, marchew], [2, Sztuki, pietruszka]...</td>\n",
       "      <td>[Warzywa dokładnie umyj. Marchewkę i pietruszk...</td>\n",
       "      <td>[polska, dla rodziny, warzywa, sól, pieprz, ma...</td>\n",
       "      <td>None</td>\n",
       "      <td>Łatwy</td>\n",
       "      <td>Do 40 min</td>\n",
       "      <td>Tymbark</td>\n",
       "      <td>http://uwielbiam.pl//przepis/salatka-jarzynowa...</td>\n",
       "    </tr>\n",
       "  </tbody>\n",
       "</table>\n",
       "</div>"
      ],
      "text/plain": [
       "                                                title  \\\n",
       "0     Sałatka z brukselką i ogórkami kiszonymi Krakus   \n",
       "1               Sałatka z gruszką i serem pleśniowym    \n",
       "2             Sałatka z winogronem i serem pleśniowym   \n",
       "3                Sałatka z figami i szynką parmeńską    \n",
       "4                  Sałatka z winogronem i kurczakiem    \n",
       "5   Sałatka ziemniaczana z bobem, boczkiem i korni...   \n",
       "6   Sałatka z pieczonych buraków i mozzarelli z dr...   \n",
       "7   Mini makaron czekoladowy z truskawkami, arbuze...   \n",
       "8   Sałatka z makaronem czekoladowym, fetą, arbuze...   \n",
       "9   Wiosenna sałatka z kalarepy z ogórkami konserw...   \n",
       "10   Sałatka ziemniaczana z ogórkami kiszonymi Krakus   \n",
       "11  Sałatka gyros ale grecka z ogórkami Korniszony...   \n",
       "12              Sałatka makaronowa z pieczonym mięsem   \n",
       "13  Makaron ryżowy z awokado, jajkiem, mozzarellą ...   \n",
       "14            Sałatka jajeczna z paluszkami krabowymi   \n",
       "15                        Sałatka z jarmużu i awokado   \n",
       "16                         Kasza pęczak ze szpinakiem   \n",
       "17                       Sałatka z awokado i łososiem   \n",
       "18                    Sałatka z granatem i kurczakiem   \n",
       "19        Sałatka jarzynowa z chlebem pełnoziarnistym   \n",
       "\n",
       "                                          description  \\\n",
       "0                                                   .   \n",
       "1   Chrupiąca sałatka z gruszką, serem pleśniowym ...   \n",
       "2   Sałatka makaronowa z winogronami i serem pleśn...   \n",
       "3   Szybko, smacznie i baaardzo ciekawie. Jeżeli l...   \n",
       "4   Pomysł na zdrową, niebanalną kolację, w słodko...   \n",
       "5   Bób - korzystajcie póki jest dostępny świeży ;...   \n",
       "6   Zdrowa, lekka i przede wszystkim letnia sałatk...   \n",
       "7   Sałatka z makaronem i owocami to deser nie tyl...   \n",
       "8   Ta sałatka dowodzi, że makaron czekoladowy świ...   \n",
       "9   Warzywna sałatka z kalarepą i ogórkami konserw...   \n",
       "10  Zdrowa, kolorowa, wprost idealna sałatka warzy...   \n",
       "11  Takiej sałatki gyros jeszcze nie próbowaliście...   \n",
       "12  Makaron kokardki jest świetną bazą do sałatek....   \n",
       "13  Makaron ryżowy idealnie pasuje do sałatek i da...   \n",
       "14  Sałatka idealna jako przystawka na spotkanie z...   \n",
       "15  Jarmuż jest świetną bazą do wielu sałatek ;) W...   \n",
       "16  Sałatka z kaszy pęczak to pożywne i zdrowe dan...   \n",
       "17  Czasami wystarczy ułożyć na talerzu odpowiedni...   \n",
       "18  Smaczne i zdrowe połączenie sałaty, owocu gran...   \n",
       "19  Poznaj przepis na prostą, a zarazem bardzo sma...   \n",
       "\n",
       "                                          ingredients  \\\n",
       "0   [[200, Gramów, Brukselka], [0.5 Szklanki Kasza...   \n",
       "1   [[1, Szklanka, Lubella Mlekołaki Miodo Kółka],...   \n",
       "2   [[300, Gramów, makaron uszka Lubella], [20, Sz...   \n",
       "3   [[400, Gramów, makaron Lubella Pełne Ziarno św...   \n",
       "4   [[0.5 Sztuki Rukola], [10, Sztuk, Winogrona], ...   \n",
       "5   [[200, Gramów, Bób], [250, Gramów, ziemniaki],...   \n",
       "6   [[2, Sztuki, Buraki], [2, Szklanki, Rukola], [...   \n",
       "7   [[130, Gramów, Makaron Lubella Mini świderki z...   \n",
       "8   [[130, Gramów, Makaron Lubella Mini świderki z...   \n",
       "9   [[1, Sztuka, Kalarepa], [3, Sztuki, ogórki kon...   \n",
       "10  [[250, Gramów, ziemniaki młode], [0.35 Sztuki ...   \n",
       "11  [[Kebab:], [200, Gramów, polędwiczki wieprzowe...   \n",
       "12  [[300, Gramów, makaron Lubella kokardki], [0.5...   \n",
       "13  [[1, Szklanka, Makaron Lubella Jajeczna Ryż], ...   \n",
       "14  [[5, Sztuk, Jaja L], [10, Sztuk, Paluszki krab...   \n",
       "15  [[300, Gramów, Jarmuż], [2, Sztuki, Awokado], ...   \n",
       "16  [[150, Gramów, Kasza pęczak], [1, Pęczek, Szpi...   \n",
       "17  [[1, Sztuka, Mix sałat], [100, Gramów, łosoś w...   \n",
       "18  [[1, Sztuka, sałata], [2, Sztuki, Pierś z kurc...   \n",
       "19  [[2, Sztuki, marchew], [2, Sztuki, pietruszka]...   \n",
       "\n",
       "                                          preparation  \\\n",
       "0   [Ugotować kaszę pęczak., Brukselkę cienko posi...   \n",
       "1   [Ser pleśniowy kroimy w małą kostkę., Rukolę i...   \n",
       "2   [Makaron gotujemy według zaleceń producenta na...   \n",
       "3   [Makaron gotujemy według zaleceń producenta na...   \n",
       "4   [Pierś kurczaka myjemy i osuszamy. Kroimy w ko...   \n",
       "5   [Warzywa ugotować, aby były al dente., Boczek ...   \n",
       "6   [Buraki (nie obierać!) owinąć w folię i piec w...   \n",
       "7   [Makaron ugotować według wskazówek na opakowan...   \n",
       "8   [Makaron ugotować według wskazówek na opakowan...   \n",
       "9   [Kalarepę zetrzeć na tarce o dużych oczkach., ...   \n",
       "10  [Ziemniaki wyszorować ze skórki, ugotować, ost...   \n",
       "11  [Mięso dobrze zmielić, doprawić przyprawą, sol...   \n",
       "12  [Makaron ugotować w posolonej wodzie., Mięso u...   \n",
       "13  [Ugotować jaja na twardo i pokroić w ćwiartki....   \n",
       "14  [Jajka ugotować, ostudzić, a następnie obrać i...   \n",
       "15  [Umyty jarmuż mieszamy z pokrojoną w piórka ce...   \n",
       "16  [Kasze gotujemy zgodnie z instrukcją na opakow...   \n",
       "17  [Awokado kroimy w plasterki., Korniszony Kraku...   \n",
       "18  [Kurczaka nacieramy sokiem z cytryny, solą, pi...   \n",
       "19  [Warzywa dokładnie umyj. Marchewkę i pietruszk...   \n",
       "\n",
       "                                                 tags allergens  skill  \\\n",
       "0   [dla rodziny, sól, warzywa, kolacja, oliwa z o...      None  Łatwy   \n",
       "1   [sól, pieprz, podwieczorek, sok z cytryny, oli...      None  Łatwy   \n",
       "2   [dla rodziny, sól, pieprz, owoce, kolacja, pod...      None  Łatwy   \n",
       "3   [sól, pieprz, kolacja, podwieczorek, sok z cyt...      None  Łatwy   \n",
       "4   [warzywa, sól, pieprz, owoce, kolacja, podwiec...      None  Łatwy   \n",
       "5   [obiad, dla rodziny, warzywa, sól, pieprz, kol...      None  Łatwy   \n",
       "6   [warzywa, kolacja, sałatka, oliwa z oliwek, po...      None  Łatwy   \n",
       "7   [polska, impreza, deser, owoce, podwieczorek, ...      None  Łatwy   \n",
       "8   [warzywa, kolacja, oliwa z oliwek, podwieczore...      None  Łatwy   \n",
       "9   [polska, warzywa, sól, pieprz, kolacja, majone...      None  Łatwy   \n",
       "10  [polska, warzywa, sól, pieprz, podwieczorek, s...      None  Łatwy   \n",
       "11  [sól, warzywa, cebula, majonez, podwieczorek, ...      None  Łatwy   \n",
       "12  [dla rodziny, mięso, sól, pieprz, kolacja, śni...      None  Łatwy   \n",
       "13  [polska, dla rodziny, cukier, sól, pieprz, kol...      None  Łatwy   \n",
       "14  [sól, pieprz, impreza, kolacja, majonez, przys...      None  Łatwy   \n",
       "15  [obiad, kolacja, podwieczorek, bez mięsa, bezm...      None  Łatwy   \n",
       "16  [obiad, dania główne, kolacja, ząbek czosnku, ...      None  Łatwy   \n",
       "17  [dla rodziny, impreza, śniadanie, podwieczorek...      None  Łatwy   \n",
       "18  [obiad, dla rodziny, mięso, sól, pieprz, kolac...      None  Łatwy   \n",
       "19  [polska, dla rodziny, warzywa, sól, pieprz, ma...      None  Łatwy   \n",
       "\n",
       "           time   author                                               link  \n",
       "0     Do 40 min   Krakus  http://uwielbiam.pl//przepis/salatka-z-bruksel...  \n",
       "1     Do 15 min  lubella  http://uwielbiam.pl//przepis/salatka-z-gruszka...  \n",
       "2     Do 15 min  lubella  http://uwielbiam.pl//przepis/salatka-z-winogro...  \n",
       "3     Do 15 min  lubella  http://uwielbiam.pl//przepis/salatka-z-figami-...  \n",
       "4     Do 40 min   Łowicz  http://uwielbiam.pl//przepis/salatka-z-winogro...  \n",
       "5     Do 40 min   Krakus  http://uwielbiam.pl//przepis/salatka-ziemniacz...  \n",
       "6   Do 1,5 godz   Łowicz  http://uwielbiam.pl//przepis/salatka-z-pieczon...  \n",
       "7     Do 40 min  lubella  http://uwielbiam.pl//przepis/mini-makaron-czek...  \n",
       "8     Do 40 min  lubella  http://uwielbiam.pl//przepis/salatka-z-makaron...  \n",
       "9     Do 40 min   Krakus  http://uwielbiam.pl//przepis/wiosenna-salatka-...  \n",
       "10    Do 40 min   Krakus  http://uwielbiam.pl//przepis/salatka-ziemniacz...  \n",
       "11    Do 40 min   Krakus  http://uwielbiam.pl//przepis/salatka-gyros-ale...  \n",
       "12    Do 1 godz  lubella  http://uwielbiam.pl//przepis/salatka-makaronow...  \n",
       "13    Do 40 min  lubella  http://uwielbiam.pl//przepis/makaron-ryzowy-z-...  \n",
       "14    Do 40 min   Krakus  http://uwielbiam.pl//przepis/salatka-jajeczna-...  \n",
       "15    Do 40 min   Kotlin  http://uwielbiam.pl//przepis/salatka-z-jarmuzu...  \n",
       "16    Do 40 min   Kotlin  http://uwielbiam.pl//przepis/kasza-peczak-ze-s...  \n",
       "17    Do 15 min   Krakus  http://uwielbiam.pl//przepis/salatka-z-awokado...  \n",
       "18    Do 40 min   Krakus  http://uwielbiam.pl//przepis/salatka-z-granate...  \n",
       "19    Do 40 min  Tymbark  http://uwielbiam.pl//przepis/salatka-jarzynowa...  "
      ]
     },
     "execution_count": 20,
     "metadata": {},
     "output_type": "execute_result"
    }
   ],
   "source": [
    "DATA = extract_data(uwielbiam.link)\n",
    "DATA"
   ]
  }
 ],
 "metadata": {
  "kernelspec": {
   "display_name": "Python 3",
   "language": "python",
   "name": "python3"
  },
  "language_info": {
   "codemirror_mode": {
    "name": "ipython",
    "version": 3
   },
   "file_extension": ".py",
   "mimetype": "text/x-python",
   "name": "python",
   "nbconvert_exporter": "python",
   "pygments_lexer": "ipython3",
   "version": "3.6.8"
  }
 },
 "nbformat": 4,
 "nbformat_minor": 4
}
